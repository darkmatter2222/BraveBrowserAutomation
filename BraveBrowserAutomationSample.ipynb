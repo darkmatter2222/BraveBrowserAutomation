{
 "cells": [
  {
   "cell_type": "markdown",
   "id": "af4e5cac-c291-42e3-b044-1ec9db56b144",
   "metadata": {},
   "source": [
    "# Download the Chrome Driver to Match your Brave Version:\n",
    "https://chromedriver.chromium.org/downloads  \n",
    "Check your chrome version in Brave (Options => 'About Brave')  \n",
    "From the Chrome Driver URL abov, download the version that matches.  \n",
    "Extract the EXE to the root of this directory."
   ]
  },
  {
   "cell_type": "code",
   "execution_count": 1,
   "id": "21900b8a-9bb7-472f-9bb7-ffa517574511",
   "metadata": {
    "collapsed": true,
    "jupyter": {
     "outputs_hidden": true
    },
    "tags": []
   },
   "outputs": [
    {
     "name": "stdout",
     "output_type": "stream",
     "text": [
      "Requirement already satisfied: selenium in c:\\users\\ryans\\source\\repos\\venv\\python311\\lib\\site-packages (4.7.2)\n",
      "Requirement already satisfied: urllib3[socks]~=1.26 in c:\\users\\ryans\\source\\repos\\venv\\python311\\lib\\site-packages (from selenium) (1.26.13)\n",
      "Requirement already satisfied: trio~=0.17 in c:\\users\\ryans\\source\\repos\\venv\\python311\\lib\\site-packages (from selenium) (0.22.0)\n",
      "Requirement already satisfied: trio-websocket~=0.9 in c:\\users\\ryans\\source\\repos\\venv\\python311\\lib\\site-packages (from selenium) (0.9.2)\n",
      "Requirement already satisfied: certifi>=2021.10.8 in c:\\users\\ryans\\source\\repos\\venv\\python311\\lib\\site-packages (from selenium) (2022.12.7)\n",
      "Requirement already satisfied: attrs>=19.2.0 in c:\\users\\ryans\\source\\repos\\venv\\python311\\lib\\site-packages (from trio~=0.17->selenium) (22.1.0)\n",
      "Requirement already satisfied: sortedcontainers in c:\\users\\ryans\\source\\repos\\venv\\python311\\lib\\site-packages (from trio~=0.17->selenium) (2.4.0)\n",
      "Requirement already satisfied: async-generator>=1.9 in c:\\users\\ryans\\source\\repos\\venv\\python311\\lib\\site-packages (from trio~=0.17->selenium) (1.10)\n",
      "Requirement already satisfied: idna in c:\\users\\ryans\\source\\repos\\venv\\python311\\lib\\site-packages (from trio~=0.17->selenium) (3.4)\n",
      "Requirement already satisfied: outcome in c:\\users\\ryans\\source\\repos\\venv\\python311\\lib\\site-packages (from trio~=0.17->selenium) (1.2.0)\n",
      "Requirement already satisfied: sniffio in c:\\users\\ryans\\source\\repos\\venv\\python311\\lib\\site-packages (from trio~=0.17->selenium) (1.3.0)\n",
      "Requirement already satisfied: cffi>=1.14 in c:\\users\\ryans\\source\\repos\\venv\\python311\\lib\\site-packages (from trio~=0.17->selenium) (1.15.1)\n",
      "Requirement already satisfied: wsproto>=0.14 in c:\\users\\ryans\\source\\repos\\venv\\python311\\lib\\site-packages (from trio-websocket~=0.9->selenium) (1.2.0)\n",
      "Requirement already satisfied: PySocks!=1.5.7,<2.0,>=1.5.6 in c:\\users\\ryans\\source\\repos\\venv\\python311\\lib\\site-packages (from urllib3[socks]~=1.26->selenium) (1.7.1)\n",
      "Requirement already satisfied: pycparser in c:\\users\\ryans\\source\\repos\\venv\\python311\\lib\\site-packages (from cffi>=1.14->trio~=0.17->selenium) (2.21)\n",
      "Requirement already satisfied: h11<1,>=0.9.0 in c:\\users\\ryans\\source\\repos\\venv\\python311\\lib\\site-packages (from wsproto>=0.14->trio-websocket~=0.9->selenium) (0.14.0)\n"
     ]
    }
   ],
   "source": [
    "!pip install selenium"
   ]
  },
  {
   "cell_type": "markdown",
   "id": "a7f2548f-05af-4fe8-aa6c-9f473381293a",
   "metadata": {},
   "source": [
    "# Imports"
   ]
  },
  {
   "cell_type": "code",
   "execution_count": 2,
   "id": "f311dbad-d248-4419-8de3-afa7f7479a00",
   "metadata": {
    "tags": []
   },
   "outputs": [],
   "source": [
    "from selenium import webdriver\n",
    "from selenium.webdriver.chrome.options import Options\n",
    "from selenium.webdriver.common.by import By\n",
    "from selenium.common.exceptions import StaleElementReferenceException\n",
    "\n",
    "import os, subprocess, time"
   ]
  },
  {
   "cell_type": "markdown",
   "id": "f9dfae35-4d2b-47ce-939e-f3b3966f5f4b",
   "metadata": {},
   "source": [
    "# Parameters"
   ]
  },
  {
   "cell_type": "code",
   "execution_count": 3,
   "id": "21c16d51-8066-44b2-a307-ea0b348b14bf",
   "metadata": {},
   "outputs": [],
   "source": [
    "brave_install = r'C:\\Program Files\\BraveSoftware\\Brave-Browser\\Application\\brave.exe'\n",
    "brave_user_data_dir= r'%appdata%\\Local\\BraveSoftware\\Brave-Browser\\User Data\\Default'\n",
    "brave_debug_port = '9222'"
   ]
  },
  {
   "cell_type": "markdown",
   "id": "68089bf7-25c0-4a17-bc81-86d3bc2fd7a9",
   "metadata": {},
   "source": [
    "# Constrect Launcher and Initalize"
   ]
  },
  {
   "cell_type": "code",
   "execution_count": 4,
   "id": "314f42f0-073d-4cc2-a56c-361390847690",
   "metadata": {},
   "outputs": [],
   "source": [
    "cmd = r'\"{0}\" --remote-debugging-port={1} --user-data-dir=\"{2}\"'.format(\n",
    "    brave_install, brave_debug_port, brave_user_data_dir)\n",
    "\n",
    "f = open(\"launcher.bat\", \"w\")\n",
    "f.write(cmd)\n",
    "f.close()\n",
    "\n",
    "p = subprocess.Popen('launcher.bat', start_new_session=True)"
   ]
  },
  {
   "cell_type": "markdown",
   "id": "ef94138c-2a0b-49c9-873c-dc2360e55bcd",
   "metadata": {},
   "source": [
    "# Connect w/ Driver"
   ]
  },
  {
   "cell_type": "code",
   "execution_count": 5,
   "id": "4fac9ced-0780-470a-888a-565e2b869462",
   "metadata": {},
   "outputs": [
    {
     "name": "stdout",
     "output_type": "stream",
     "text": [
      "Current Tab Open 'New Tab'\n"
     ]
    }
   ],
   "source": [
    "chrome_options = Options()\n",
    "chrome_options.add_experimental_option(\"debuggerAddress\", \"localhost:9222\")\n",
    "driver = webdriver.Chrome(options=chrome_options)\n",
    "# check connection, what is the name of the tab open?\n",
    "print(f\"Current Tab Open '{driver.title}'\")"
   ]
  },
  {
   "cell_type": "markdown",
   "id": "889b60f9-a8e4-4165-8df0-793bd8fd5559",
   "metadata": {},
   "source": [
    "## Test Nav"
   ]
  },
  {
   "cell_type": "code",
   "execution_count": 6,
   "id": "7e628af4-56a8-4cd8-b2c7-1e033012f02e",
   "metadata": {},
   "outputs": [
    {
     "name": "stdout",
     "output_type": "stream",
     "text": [
      "Current Tab Open 'Google'\n"
     ]
    }
   ],
   "source": [
    "driver.get(\"http://www.google.com\")\n",
    "time.sleep(1)\n",
    "main_window = driver.current_window_handle\n",
    "print(f\"Current Tab Open '{driver.title}'\")"
   ]
  },
  {
   "cell_type": "markdown",
   "id": "afb5f52a-0a38-4cae-af29-b21c8db9d90d",
   "metadata": {},
   "source": [
    "# Test Tab Control\n",
    "## Approve popups int he browser from Google.com!!!"
   ]
  },
  {
   "cell_type": "code",
   "execution_count": 9,
   "id": "4dc141be-73c7-450e-87f5-7cf6a10d9817",
   "metadata": {},
   "outputs": [],
   "source": [
    "driver.execute_script('''window.open(\"about:blank\");''')"
   ]
  },
  {
   "cell_type": "markdown",
   "id": "3d8713fc-86af-4b34-9152-54589243dea1",
   "metadata": {},
   "source": [
    "# Close all tabs except the 1st"
   ]
  },
  {
   "cell_type": "code",
   "execution_count": 10,
   "id": "4f60d80d-d164-4538-bd5c-9f1c742da840",
   "metadata": {},
   "outputs": [],
   "source": [
    "if len(driver.window_handles) > 1:\n",
    "    for handle in driver.window_handles[1:]:\n",
    "        driver.switch_to.window(handle) \n",
    "        driver.close()\n",
    "        driver.switch_to.window(driver.window_handles[0]) "
   ]
  },
  {
   "cell_type": "code",
   "execution_count": null,
   "id": "8fb22543-9931-44f7-84f5-e66105b3d8e7",
   "metadata": {},
   "outputs": [],
   "source": []
  }
 ],
 "metadata": {
  "kernelspec": {
   "display_name": "Python 3 (ipykernel)",
   "language": "python",
   "name": "python3"
  },
  "language_info": {
   "codemirror_mode": {
    "name": "ipython",
    "version": 3
   },
   "file_extension": ".py",
   "mimetype": "text/x-python",
   "name": "python",
   "nbconvert_exporter": "python",
   "pygments_lexer": "ipython3",
   "version": "3.11.1"
  }
 },
 "nbformat": 4,
 "nbformat_minor": 5
}
