{
 "cells": [
  {
   "cell_type": "markdown",
   "id": "af4e5cac-c291-42e3-b044-1ec9db56b144",
   "metadata": {},
   "source": [
    "\n",
    "# Download the Chrome Driver to Match your Brave Version:\n",
    "https://chromedriver.chromium.org/downloads  \n",
    "Check your chrome version in Brave (Options => 'About Brave')  \n",
    "From the Chrome Driver URL above, download the version that matches.  (has the same first three digits, 'major')  \n",
    "Extract the EXE to the root of this directory so the EXE is in the root.\n",
    "  \n",
    "Example, If you have version 108.0.5359.128, then download the 108.x.x.x driver.\n"
   ]
  },
  {
   "cell_type": "markdown",
   "id": "9040706b-71f2-46a3-969e-16e19b58d0df",
   "metadata": {},
   "source": [
    "# Objective:   \n",
    "## This Notebook:\n",
    "- Emulate opening/closing tabs   \n",
    "- Emulate clicking UI controls   \n",
    "- Emulate navigation (w/ randomness)   \n",
    "\n",
    "Brave seems to have one final control outside these three organic HID (Human Interface Devices) movements.   \n",
    "  \n",
    "\n",
    " ## Raspberry PI Pico/Circuit Python\n",
    "Circuit python on a $4 raspberry pi pico can emulate HID behavior.  See the attached code.py script to install on your circuit python device for HID emulation.  There seems to be a trick w/ speed and direction. \n",
    "Demo for Circuit Python here: https://youtu.be/07vG-_CcDG0   \n"
   ]
  },
  {
   "cell_type": "code",
   "execution_count": 1,
   "id": "21900b8a-9bb7-472f-9bb7-ffa517574511",
   "metadata": {
    "tags": []
   },
   "outputs": [
    {
     "name": "stdout",
     "output_type": "stream",
     "text": [
      "Requirement already satisfied: selenium in c:\\users\\ryans\\source\\repos\\venv\\python311\\lib\\site-packages (4.7.2)\n",
      "Requirement already satisfied: urllib3[socks]~=1.26 in c:\\users\\ryans\\source\\repos\\venv\\python311\\lib\\site-packages (from selenium) (1.26.13)\n",
      "Requirement already satisfied: trio~=0.17 in c:\\users\\ryans\\source\\repos\\venv\\python311\\lib\\site-packages (from selenium) (0.22.0)\n",
      "Requirement already satisfied: trio-websocket~=0.9 in c:\\users\\ryans\\source\\repos\\venv\\python311\\lib\\site-packages (from selenium) (0.9.2)\n",
      "Requirement already satisfied: certifi>=2021.10.8 in c:\\users\\ryans\\source\\repos\\venv\\python311\\lib\\site-packages (from selenium) (2022.12.7)\n",
      "Requirement already satisfied: attrs>=19.2.0 in c:\\users\\ryans\\source\\repos\\venv\\python311\\lib\\site-packages (from trio~=0.17->selenium) (22.1.0)\n",
      "Requirement already satisfied: sortedcontainers in c:\\users\\ryans\\source\\repos\\venv\\python311\\lib\\site-packages (from trio~=0.17->selenium) (2.4.0)\n",
      "Requirement already satisfied: async-generator>=1.9 in c:\\users\\ryans\\source\\repos\\venv\\python311\\lib\\site-packages (from trio~=0.17->selenium) (1.10)\n",
      "Requirement already satisfied: idna in c:\\users\\ryans\\source\\repos\\venv\\python311\\lib\\site-packages (from trio~=0.17->selenium) (3.4)\n",
      "Requirement already satisfied: outcome in c:\\users\\ryans\\source\\repos\\venv\\python311\\lib\\site-packages (from trio~=0.17->selenium) (1.2.0)\n",
      "Requirement already satisfied: sniffio in c:\\users\\ryans\\source\\repos\\venv\\python311\\lib\\site-packages (from trio~=0.17->selenium) (1.3.0)\n",
      "Requirement already satisfied: cffi>=1.14 in c:\\users\\ryans\\source\\repos\\venv\\python311\\lib\\site-packages (from trio~=0.17->selenium) (1.15.1)\n",
      "Requirement already satisfied: wsproto>=0.14 in c:\\users\\ryans\\source\\repos\\venv\\python311\\lib\\site-packages (from trio-websocket~=0.9->selenium) (1.2.0)\n",
      "Requirement already satisfied: PySocks!=1.5.7,<2.0,>=1.5.6 in c:\\users\\ryans\\source\\repos\\venv\\python311\\lib\\site-packages (from urllib3[socks]~=1.26->selenium) (1.7.1)\n",
      "Requirement already satisfied: pycparser in c:\\users\\ryans\\source\\repos\\venv\\python311\\lib\\site-packages (from cffi>=1.14->trio~=0.17->selenium) (2.21)\n",
      "Requirement already satisfied: h11<1,>=0.9.0 in c:\\users\\ryans\\source\\repos\\venv\\python311\\lib\\site-packages (from wsproto>=0.14->trio-websocket~=0.9->selenium) (0.14.0)\n",
      "Requirement already satisfied: requests in c:\\users\\ryans\\source\\repos\\venv\\python311\\lib\\site-packages (2.28.1)\n",
      "Requirement already satisfied: charset-normalizer<3,>=2 in c:\\users\\ryans\\source\\repos\\venv\\python311\\lib\\site-packages (from requests) (2.1.1)\n",
      "Requirement already satisfied: idna<4,>=2.5 in c:\\users\\ryans\\source\\repos\\venv\\python311\\lib\\site-packages (from requests) (3.4)\n",
      "Requirement already satisfied: urllib3<1.27,>=1.21.1 in c:\\users\\ryans\\source\\repos\\venv\\python311\\lib\\site-packages (from requests) (1.26.13)\n",
      "Requirement already satisfied: certifi>=2017.4.17 in c:\\users\\ryans\\source\\repos\\venv\\python311\\lib\\site-packages (from requests) (2022.12.7)\n"
     ]
    }
   ],
   "source": [
    "!pip install selenium\n",
    "!pip install requests"
   ]
  },
  {
   "cell_type": "markdown",
   "id": "a7f2548f-05af-4fe8-aa6c-9f473381293a",
   "metadata": {},
   "source": [
    "# Imports"
   ]
  },
  {
   "cell_type": "code",
   "execution_count": 2,
   "id": "f311dbad-d248-4419-8de3-afa7f7479a00",
   "metadata": {
    "tags": []
   },
   "outputs": [],
   "source": [
    "from selenium import webdriver\n",
    "from selenium.webdriver.chrome.options import Options\n",
    "from selenium.webdriver.common.by import By\n",
    "from selenium.common.exceptions import StaleElementReferenceException\n",
    "from datetime import datetime\n",
    "\n",
    "import requests\n",
    "import os, subprocess, time, json, random"
   ]
  },
  {
   "cell_type": "markdown",
   "id": "f9dfae35-4d2b-47ce-939e-f3b3966f5f4b",
   "metadata": {},
   "source": [
    "# Parameters"
   ]
  },
  {
   "cell_type": "code",
   "execution_count": 3,
   "id": "21c16d51-8066-44b2-a307-ea0b348b14bf",
   "metadata": {},
   "outputs": [],
   "source": [
    "brave_install = r'C:\\Program Files\\BraveSoftware\\Brave-Browser\\Application\\brave.exe'\n",
    "brave_user_data_dir= r'%appdata%\\Local\\BraveSoftware\\Brave-Browser\\User Data\\Default'\n",
    "brave_debug_port = '9222'\n",
    "\n",
    "bot_parms = requests.get('https://hobbytimewith.me/targets.json').json()\n",
    "\n",
    "verbose_output = False"
   ]
  },
  {
   "cell_type": "markdown",
   "id": "68089bf7-25c0-4a17-bc81-86d3bc2fd7a9",
   "metadata": {},
   "source": [
    "# Constrect Launcher and Initalize"
   ]
  },
  {
   "cell_type": "code",
   "execution_count": 4,
   "id": "314f42f0-073d-4cc2-a56c-361390847690",
   "metadata": {},
   "outputs": [],
   "source": [
    "cmd = r'\"{0}\" --remote-debugging-port={1} --user-data-dir=\"{2}\"'.format(\n",
    "    brave_install, brave_debug_port, brave_user_data_dir)\n",
    "\n",
    "f = open(\"launcher.bat\", \"w\")\n",
    "f.write(cmd)\n",
    "f.close()\n",
    "\n",
    "p = subprocess.Popen('launcher.bat', start_new_session=True)"
   ]
  },
  {
   "cell_type": "markdown",
   "id": "ef94138c-2a0b-49c9-873c-dc2360e55bcd",
   "metadata": {},
   "source": [
    "# Connect w/ Driver"
   ]
  },
  {
   "cell_type": "code",
   "execution_count": 5,
   "id": "4fac9ced-0780-470a-888a-565e2b869462",
   "metadata": {},
   "outputs": [],
   "source": [
    "chrome_options = Options()\n",
    "chrome_options.add_experimental_option(\"debuggerAddress\", \"localhost:9222\")\n",
    "driver = webdriver.Chrome(options=chrome_options)"
   ]
  },
  {
   "cell_type": "markdown",
   "id": "889b60f9-a8e4-4165-8df0-793bd8fd5559",
   "metadata": {},
   "source": [
    "## Test Nav"
   ]
  },
  {
   "cell_type": "code",
   "execution_count": 6,
   "id": "deddf20d-ae64-4fc9-ae84-34df5cd679a0",
   "metadata": {},
   "outputs": [],
   "source": [
    "def nav(url):\n",
    "    driver.get(url)\n",
    "    time.sleep(5) # allow for pageload, do whatever you want\n",
    "    return driver.title"
   ]
  },
  {
   "cell_type": "code",
   "execution_count": 7,
   "id": "7e628af4-56a8-4cd8-b2c7-1e033012f02e",
   "metadata": {},
   "outputs": [
    {
     "name": "stdout",
     "output_type": "stream",
     "text": [
      "Current Tab Open 'Google'\n"
     ]
    }
   ],
   "source": [
    "title = nav(\"http://www.google.com\")\n",
    "print(f\"Current Tab Open '{title}'\")"
   ]
  },
  {
   "cell_type": "markdown",
   "id": "afb5f52a-0a38-4cae-af29-b21c8db9d90d",
   "metadata": {},
   "source": [
    "# Test Tab Control\n",
    "## Approve popups int he browser from google.com!!!\n",
    "## Approve popups int he browser from twitch.com!!!\n",
    "Poping new tabs is a form of activity we are trying to emulate, the only way to do this via chromdriver is w/ a window.open command in JS. As a result presents itself as a popup. "
   ]
  },
  {
   "cell_type": "code",
   "execution_count": 8,
   "id": "4dc141be-73c7-450e-87f5-7cf6a10d9817",
   "metadata": {},
   "outputs": [],
   "source": [
    "def popATab():\n",
    "    driver.execute_script('''window.open(\"about:blank\");''')  \n",
    "    time.sleep(0.5)\n",
    "    if len(driver.window_handles) > 1:\n",
    "        for handle in driver.window_handles[1:]:\n",
    "            driver.switch_to.window(handle) \n",
    "            driver.close()\n",
    "            driver.switch_to.window(driver.window_handles[0])"
   ]
  },
  {
   "cell_type": "code",
   "execution_count": 9,
   "id": "a89cb665-28ae-4372-9c2e-e4d6305bd847",
   "metadata": {},
   "outputs": [],
   "source": [
    "popATab()"
   ]
  },
  {
   "cell_type": "markdown",
   "id": "6a7f1474-38a6-439a-9097-4739d2823541",
   "metadata": {},
   "source": [
    "# Click th Channel Points Button (for activity)"
   ]
  },
  {
   "cell_type": "code",
   "execution_count": 10,
   "id": "8df5861d-1148-4f68-8795-cee4732bb8b6",
   "metadata": {},
   "outputs": [],
   "source": [
    "def getClickChannelPointsButton():\n",
    "    while True:\n",
    "        try:\n",
    "            elements = driver.find_elements(By.XPATH, '//button')\n",
    "            GetBitsElements = []\n",
    "            for element in elements:\n",
    "                cl1 = element.get_attribute(\"aria-label\")\n",
    "                if cl1 == \"Claim Bonus\":\n",
    "                    GetBitsElements.append(element)\n",
    "            if len(GetBitsElements) > 0:\n",
    "                # Colect them points\n",
    "                return GetBitsElements[0]\n",
    "            else:\n",
    "                return None\n",
    "        except StaleElementReferenceException as e:\n",
    "            if verbose_output:\n",
    "                print(f'StaleElementReferenceException, Attempting Again...')"
   ]
  },
  {
   "cell_type": "markdown",
   "id": "3d8713fc-86af-4b34-9152-54589243dea1",
   "metadata": {},
   "source": [
    "# Begin Cycling the URLs\n",
    "After this is running, plug in your raspberry pi to emulate HID mouse movement."
   ]
  },
  {
   "cell_type": "code",
   "execution_count": 11,
   "id": "8fb22543-9931-44f7-84f5-e66105b3d8e7",
   "metadata": {},
   "outputs": [
    {
     "ename": "KeyboardInterrupt",
     "evalue": "",
     "output_type": "error",
     "traceback": [
      "\u001b[1;31m---------------------------------------------------------------------------\u001b[0m",
      "\u001b[1;31mKeyboardInterrupt\u001b[0m                         Traceback (most recent call last)",
      "Cell \u001b[1;32mIn[11], line 11\u001b[0m\n\u001b[0;32m      9\u001b[0m \u001b[38;5;28;01mif\u001b[39;00m verbose_output:\n\u001b[0;32m     10\u001b[0m     \u001b[38;5;28mprint\u001b[39m(\u001b[38;5;124mf\u001b[39m\u001b[38;5;124m\"\u001b[39m\u001b[38;5;124msleeping \u001b[39m\u001b[38;5;132;01m{\u001b[39;00mseconds\u001b[38;5;132;01m}\u001b[39;00m\u001b[38;5;124m seconds\u001b[39m\u001b[38;5;124m\"\u001b[39m)\n\u001b[1;32m---> 11\u001b[0m \u001b[43mtime\u001b[49m\u001b[38;5;241;43m.\u001b[39;49m\u001b[43msleep\u001b[49m\u001b[43m(\u001b[49m\u001b[43mseconds\u001b[49m\u001b[43m)\u001b[49m\n\u001b[0;32m     12\u001b[0m element \u001b[38;5;241m=\u001b[39m getClickChannelPointsButton()\n\u001b[0;32m     14\u001b[0m \u001b[38;5;28;01mif\u001b[39;00m element \u001b[38;5;241m!=\u001b[39m \u001b[38;5;28;01mNone\u001b[39;00m:\n",
      "\u001b[1;31mKeyboardInterrupt\u001b[0m: "
     ]
    }
   ],
   "source": [
    "while True:\n",
    "    try:\n",
    "        popATab()\n",
    "        nav(random.choice(bot_parms['bot_urls']))\n",
    "        seconds = random.randrange(\n",
    "            bot_parms['bot_url_delay_range_min'], \n",
    "            bot_parms['bot_url_delay_range_max'])\n",
    "\n",
    "        if verbose_output:\n",
    "            print(f\"sleeping {seconds} seconds\")\n",
    "        time.sleep(seconds)\n",
    "        element = getClickChannelPointsButton()\n",
    "\n",
    "        if element != None:\n",
    "            if verbose_output:\n",
    "                print(\"Clicking Channel Points Button\")\n",
    "            element.click()\n",
    "\n",
    "        time.sleep(5)\n",
    "    except Exception as e:\n",
    "        print(f'{datetime.now().strftime(\"%m/%d/%Y %H:%M:%S\")}: Exception: {e}')\n",
    "        time.sleep(1)"
   ]
  },
  {
   "cell_type": "code",
   "execution_count": null,
   "id": "d22d2721-33a6-498e-96fe-a3c856a6a1f6",
   "metadata": {},
   "outputs": [],
   "source": []
  }
 ],
 "metadata": {
  "kernelspec": {
   "display_name": "Python 3 (ipykernel)",
   "language": "python",
   "name": "python3"
  },
  "language_info": {
   "codemirror_mode": {
    "name": "ipython",
    "version": 3
   },
   "file_extension": ".py",
   "mimetype": "text/x-python",
   "name": "python",
   "nbconvert_exporter": "python",
   "pygments_lexer": "ipython3",
   "version": "3.11.1"
  }
 },
 "nbformat": 4,
 "nbformat_minor": 5
}
